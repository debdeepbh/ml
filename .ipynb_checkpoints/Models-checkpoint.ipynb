{
 "cells": [
  {
   "cell_type": "markdown",
   "metadata": {},
   "source": [
    "## Linear regression\n",
    "\n",
    "Generate a random data with underlying trend: $y = 4 + 3x$.\n",
    "By convention, the y-intercept is taken to be the first parameter."
   ]
  },
  {
   "cell_type": "code",
   "execution_count": 14,
   "metadata": {},
   "outputs": [],
   "source": [
    "import numpy as np\n",
    "X= 2* np.random.rand(100, 1)\n",
    "y = 4 + 3*X + np.random.randn(100, 1)"
   ]
  },
  {
   "cell_type": "code",
   "execution_count": 15,
   "metadata": {},
   "outputs": [
    {
     "data": {
      "text/plain": [
       "<matplotlib.collections.PathCollection at 0x7f780955db38>"
      ]
     },
     "execution_count": 15,
     "metadata": {},
     "output_type": "execute_result"
    }
   ],
   "source": [
    "import matplotlib.pyplot as plt\n",
    "plt.scatter(X,y)"
   ]
  },
  {
   "cell_type": "markdown",
   "metadata": {},
   "source": [
    "Our model is:  $y = c + mx = \\theta^T X$ where $\\theta = (c, m)$ and $X =  (1, x)$.\n",
    "\n",
    "The given data is\n",
    "$$ y_i = \\theta^T X_i$$\n",
    "for $i = 1, ..., M$.\n",
    "\n",
    "We find the the optimum parameter $\\hat{\\theta}$ for which \n",
    "$$ MSE(\\theta) = \\frac1m \\sum_{i=1}^{m} \\left( \\theta^T . X_i - y_i \\right)^2$$\n",
    "is minimized.\n",
    "\n",
    "Observe that\n",
    "$$\n",
    "\\begin{bmatrix}\n",
    "\\theta^T X_1 \\\\\n",
    "\\vdots \\\\\n",
    "\\theta^T X_M \\\\\n",
    " \\end{bmatrix}\n",
    " -\n",
    "\\begin{bmatrix}\n",
    "y_1\\\\\n",
    "\\vdots \\\\\n",
    "y_M\n",
    " \\end{bmatrix}\n",
    "  = \\bar{X}\\theta - y.\n",
    " $$\n",
    " where\n",
    " $$ \\bar{X} = \n",
    " \\begin{bmatrix}\n",
    " X_1\\\\\n",
    " \\vdots\\\\\n",
    " X_M\n",
    " \\end{bmatrix}\n",
    "= \n",
    " \\begin{bmatrix}\n",
    " 1 &x_1\\\\\n",
    " \\vdots & \\vdots\\\\\n",
    "1 & x_m\n",
    " \\end{bmatrix}.\n",
    " $$\n",
    "\n",
    "So,\n",
    "$$\\text{MSE}(\\theta) = \\frac1m (\\bar{X}\\theta - y)^T(\\bar{X}\\theta - y)$$\n",
    "\n",
    "Simplifying,\n",
    "$$ M. \\text{MSE}(\\theta) = (\\bar{X}\\theta - y)^T(\\bar{X}\\theta - y) = (\\bar{X}\\theta)^T (\\bar{X} \\theta) - 2Y^T \\bar{X}^T + Y^T Y $$\n",
    "\n",
    "Using the fact that \n",
    "$$ \\frac{d}{dX} X^TX = 2X$$\n",
    "and \n",
    "$$ \\frac{d}{dX} X^TB = B$$\n",
    "we set  the derivative of MSE to zero to get\n",
    "$$ 2 \\bar{X}^T X \\theta = 2 \\bar{X}^T Y$$\n",
    "which yields the normal equation\n",
    "$$\\hat{\\theta} = \\left(\\bar{X}^T \\bar{X} \\right)^{-1} \\bar{X}^T y$$"
   ]
  },
  {
   "cell_type": "code",
   "execution_count": 16,
   "metadata": {},
   "outputs": [],
   "source": [
    "# Adding bias column of ones, the last column of \\bar{X}\n",
    "X_b = np.c_[np.ones((100,1)), X] # Note the double (( )) !!\n",
    "# using numpy function linalg.inv\n",
    "theta_best = np.linalg.inv(X_b.T.dot(X_b)).dot(X_b.T).dot(y)"
   ]
  },
  {
   "cell_type": "code",
   "execution_count": 17,
   "metadata": {},
   "outputs": [
    {
     "data": {
      "text/plain": [
       "array([[4.11300041],\n",
       "       [3.03505132]])"
      ]
     },
     "execution_count": 17,
     "metadata": {},
     "output_type": "execute_result"
    }
   ],
   "source": [
    "theta_best"
   ]
  },
  {
   "cell_type": "markdown",
   "metadata": {},
   "source": [
    "Our expection was 4 and 3."
   ]
  },
  {
   "cell_type": "markdown",
   "metadata": {},
   "source": [
    "Now, we compute the prediction of the model, which is a line."
   ]
  },
  {
   "cell_type": "code",
   "execution_count": 18,
   "metadata": {},
   "outputs": [],
   "source": [
    "y_predict = np.c_[np.ones((100,1)), X].dot(theta_best)"
   ]
  },
  {
   "cell_type": "code",
   "execution_count": 19,
   "metadata": {},
   "outputs": [
    {
     "data": {
      "text/plain": [
       "[<matplotlib.lines.Line2D at 0x7f7809526588>]"
      ]
     },
     "execution_count": 19,
     "metadata": {},
     "output_type": "execute_result"
    },
    {
     "data": {
      "image/png": "[encoded data removed]",
      "text/plain": [
       "<Figure size 432x288 with 1 Axes>"
      ]
     },
     "metadata": {
      "needs_background": "light"
     },
     "output_type": "display_data"
    }
   ],
   "source": [
    "plt.scatter(X,y)\n",
    "plt.plot(X, y_predict,'-r')"
   ]
  },
  {
   "cell_type": "markdown",
   "metadata": {},
   "source": [
    "In `scikit-learn`, we can do the same using `LinearRegression`. We feed the x-values without the bias column and `lin_reg.intercept_` outputs the intercept.\n",
    "While predicting, we need to take the dot product with x-value with a bias column (values of 1)."
   ]
  },
  {
   "cell_type": "code",
   "execution_count": 20,
   "metadata": {},
   "outputs": [
    {
     "data": {
      "text/plain": [
       "LinearRegression(copy_X=True, fit_intercept=True, n_jobs=None,\n",
       "         normalize=False)"
      ]
     },
     "execution_count": 20,
     "metadata": {},
     "output_type": "execute_result"
    }
   ],
   "source": [
    "from sklearn.linear_model import LinearRegression\n",
    "lin_reg = LinearRegression()\n",
    "lin_reg.fit(X,y)"
   ]
  },
  {
   "cell_type": "markdown",
   "metadata": {},
   "source": [
    "**Note:** You do *not* have to manually add the bias column to use `LinearRegression()`."
   ]
  },
  {
   "cell_type": "markdown",
   "metadata": {},
   "source": [
    "The fitted parameters can be viewed using the variable with underscore in the end."
   ]
  },
  {
   "cell_type": "code",
   "execution_count": 21,
   "metadata": {},
   "outputs": [
    {
     "data": {
      "text/plain": [
       "(array([4.11300041]), array([[3.03505132]]))"
      ]
     },
     "execution_count": 21,
     "metadata": {},
     "output_type": "execute_result"
    }
   ],
   "source": [
    "lin_reg.intercept_, lin_reg.coef_"
   ]
  },
  {
   "cell_type": "markdown",
   "metadata": {},
   "source": [
    "### Gradient descent\n",
    "The **learning rate**  $\\eta$ is the step size by which the gradient descent method jumps to the next iteration. \n",
    "\n",
    "The gradient descent algorithm is\n",
    "$$ \\theta^{n+1} = \\theta^n - \\eta \\nabla_{\\theta} \\text{MSE}(\\theta^n)$$\n",
    "where\n",
    "$$ \\nabla_\\theta \\text{MSE}(\\theta) = \\frac2M  \\bar{X}^T(\\bar{X}\\theta -Y)$$\n",
    "\n",
    "The inital guess is chosen randomly. However, depending on the guess, might take a long time to reach the minimizer.\n",
    "\n",
    "The **tolerance** is the lower bound of the gradient of MSE.\n",
    "\n",
    "Here, `X_b`=$\\bar{X}$."
   ]
  },
  {
   "cell_type": "code",
   "execution_count": 22,
   "metadata": {},
   "outputs": [
    {
     "data": {
      "text/plain": [
       "array([[4.11300041],\n",
       "       [3.03505132]])"
      ]
     },
     "execution_count": 22,
     "metadata": {},
     "output_type": "execute_result"
    }
   ],
   "source": [
    "eta = 0.1\n",
    "n_iter = 1000\n",
    "m = 100\n",
    "theta = np.random.randn(2,1)\n",
    "\n",
    "for iteration in range(n_iter):\n",
    "    gradient = 2/m * X_b.T.dot(X_b.dot(theta) - y)\n",
    "    theta = theta  - eta*gradient\n",
    "\n",
    "theta"
   ]
  },
  {
   "cell_type": "markdown",
   "metadata": {},
   "source": [
    "We can do a grid search to find the best learning rate that works. (Not sure how that will give us a different value of the minimizer, but I'm guessing it will be better for MSE's with multiple local minimizers.) "
   ]
  },
  {
   "cell_type": "markdown",
   "metadata": {},
   "source": [
    "For a convex cost function, (smooth enough), for a fixed learning rate, the convergenge rate is $O(\\frac{1}{\\#\\ iterations})$.\n",
    "\n",
    "### Stochastic gradient descent\n",
    "\n",
    "Here, the elements of the gradient (a vectot) is computed using \n",
    "$$ \\frac{\\partial}{\\partial\\theta_j} \\text{MSE}(\\theta) = \\frac2M \\sum_{i=1}^m (\\theta^T X_i - y_i) X_i(j)\n",
    "$$\n",
    "for each $j$. But for each $j$, a different sample is chosen. (?)\n",
    "Choose the gradient of MSE from randomly chosen samples. However, we need to reduce the learning rate gradually to make sure randomly chosen gradients do not make the guess run out of the theorerical minimizer too much.\n",
    "\n",
    "This method does not converge to the minimizer as step size goes to infinity, but it *does* converge in an average.\n",
    "On the other hand, exploiting the randomness, it is very fast."
   ]
  },
  {
   "cell_type": "markdown",
   "metadata": {},
   "source": [
    "**Note:** `.ravel()` is same as `.reshape(-1)` which is used to convert a matrix (with ``[[]]``) to an 1-dimensional array (with `[]`) which is required for `SGDRegressor()`."
   ]
  },
  {
   "cell_type": "code",
   "execution_count": 23,
   "metadata": {},
   "outputs": [
    {
     "data": {
      "text/plain": [
       "SGDRegressor(alpha=0.0001, average=False, early_stopping=False, epsilon=0.1,\n",
       "       eta0=0.1, fit_intercept=True, l1_ratio=0.15,\n",
       "       learning_rate='invscaling', loss='squared_loss', max_iter=None,\n",
       "       n_iter=None, n_iter_no_change=5, penalty=None, power_t=0.25,\n",
       "       random_state=None, shuffle=True, tol=0.2, validation_fraction=0.1,\n",
       "       verbose=0, warm_start=False)"
      ]
     },
     "execution_count": 23,
     "metadata": {},
     "output_type": "execute_result"
    }
   ],
   "source": [
    "from sklearn.linear_model import SGDRegressor\n",
    "sgd_reg = SGDRegressor(tol=0.2, penalty=None, eta0=0.1)\n",
    "sgd_reg.fit(X, y.ravel())"
   ]
  },
  {
   "cell_type": "code",
   "execution_count": 24,
   "metadata": {},
   "outputs": [
    {
     "data": {
      "text/plain": [
       "(array([4.09571013]), array([3.06031012]))"
      ]
     },
     "execution_count": 24,
     "metadata": {},
     "output_type": "execute_result"
    }
   ],
   "source": [
    "sgd_reg.intercept_, sgd_reg.coef_"
   ]
  },
  {
   "cell_type": "markdown",
   "metadata": {},
   "source": [
    "### Mini Batch gradient descent\n",
    "chooses a subset of the whole dataset to compute the gradient. This dataset is chosen at random so it has the best of both Stochastic and Batch gradient descent (where the gradient is computed from the whole dataset), fast and converges to the minimizer."
   ]
  },
  {
   "cell_type": "markdown",
   "metadata": {},
   "source": [
    "## Polynomial regression\n",
    "Let the model be\n",
    "$$ y = 0.5x^2 + x+ 2$$"
   ]
  },
  {
   "cell_type": "code",
   "execution_count": 25,
   "metadata": {},
   "outputs": [
    {
     "data": {
      "text/plain": [
       "<matplotlib.collections.PathCollection at 0x7f780375cfd0>"
      ]
     },
     "execution_count": 25,
     "metadata": {},
     "output_type": "execute_result"
    },
    {
     "data": {
      "image/png": "[encoded data removed]",
      "text/plain": [
       "<Figure size 432x288 with 1 Axes>"
      ]
     },
     "metadata": {
      "needs_background": "light"
     },
     "output_type": "display_data"
    }
   ],
   "source": [
    "m = 100\n",
    "X = 6 * np.random.rand(m, 1) - 3\n",
    "y = 0.5 * X**2 + X + 2 + np.random.randn(m,1)\n",
    "plt.scatter(X,y)"
   ]
  },
  {
   "cell_type": "markdown",
   "metadata": {},
   "source": [
    "Here, we create columns including all higher powers of $x$ upto the `degree` provided, with or without the bias term (i.e. the constant coefficent).\n",
    "\n",
    "For example, after fitting the `PolynomialFeatures()`, the first column (with `include_bias=False`) is $x$, second column is $x^2$ etc."
   ]
  },
  {
   "cell_type": "code",
   "execution_count": 26,
   "metadata": {},
   "outputs": [],
   "source": [
    "from sklearn.preprocessing import PolynomialFeatures\n",
    "poly_features = PolynomialFeatures(degree=2, include_bias = False)\n",
    "X_poly = poly_features.fit_transform(X)"
   ]
  },
  {
   "cell_type": "code",
   "execution_count": 27,
   "metadata": {},
   "outputs": [
    {
     "data": {
      "text/plain": [
       "array([-2.49196156,  6.20987244])"
      ]
     },
     "execution_count": 27,
     "metadata": {},
     "output_type": "execute_result"
    }
   ],
   "source": [
    "X_poly[0]  # contains x and x^2"
   ]
  },
  {
   "cell_type": "markdown",
   "metadata": {},
   "source": [
    "A polynomial regression is essentially a linear regression with more multiple features where the other features are related to one feature in a polyminal way."
   ]
  },
  {
   "cell_type": "code",
   "execution_count": 28,
   "metadata": {},
   "outputs": [
    {
     "data": {
      "text/plain": [
       "(array([2.21977824]), array([[0.92791447, 0.46489834]]))"
      ]
     },
     "execution_count": 28,
     "metadata": {},
     "output_type": "execute_result"
    }
   ],
   "source": [
    "lin_reg = LinearRegression()\n",
    "lin_reg.fit(X_poly, y)\n",
    "lin_reg.intercept_, lin_reg.coef_"
   ]
  },
  {
   "cell_type": "markdown",
   "metadata": {},
   "source": [
    "This implies that the model is $y = 1.9 + 0.92 x + 0.52 x^2$."
   ]
  },
  {
   "cell_type": "markdown",
   "metadata": {},
   "source": [
    "If $x=(a,b)$ is two-dimensionals, `PolynomialFeatures` with `degree=2` will produce $a, b, a2, b^2, ab$ columns. \n",
    "For degree $d$ with $n$ features, total polynomial features will be\n",
    "$$ \\frac{(n+d)!}{d! n!}$$ features."
   ]
  },
  {
   "cell_type": "markdown",
   "metadata": {},
   "source": [
    "**Note:** Just like the linear case (i.e. when your model or hypothesis is linear), you do *not* have to add the bias column to your data manually to use the `LinearRegression()`."
   ]
  },
  {
   "cell_type": "markdown",
   "metadata": {},
   "source": [
    "We plot the data and the fitting polynomial."
   ]
  },
  {
   "cell_type": "code",
   "execution_count": 29,
   "metadata": {},
   "outputs": [
    {
     "data": {
      "text/plain": [
       "<matplotlib.collections.PathCollection at 0x7f78016cd550>"
      ]
     },
     "execution_count": 29,
     "metadata": {},
     "output_type": "execute_result"
    },
    {
     "data": {
      "image/png": "[encoded data removed]",
      "text/plain": [
       "<Figure size 432x288 with 1 Axes>"
      ]
     },
     "metadata": {
      "needs_background": "light"
     },
     "output_type": "display_data"
    }
   ],
   "source": [
    "# equally space 100 numbers between the min and max of the data\n",
    "X_arr = np.linspace(min(X), max(X), num=100)\n",
    "# collecting the coefficients of polynomial\n",
    "reg_params = np.c_[lin_reg.intercept_, lin_reg.coef_]\n",
    "# computing the y-values of the polynomial\n",
    "y_curve = np.c_[np.ones((100,1)), X_arr, np.power(X_arr,2)].dot(np.transpose(reg_params))\n",
    "plt.plot(X_arr, y_curve, 'r')\n",
    "plt.scatter(X, y)"
   ]
  },
  {
   "cell_type": "markdown",
   "metadata": {},
   "source": [
    "Alternate way to plot the same curve: by predicting an equally-spaced 100 `linspace()` values using the fitted model."
   ]
  },
  {
   "cell_type": "code",
   "execution_count": 30,
   "metadata": {},
   "outputs": [
    {
     "data": {
      "text/plain": [
       "<matplotlib.collections.PathCollection at 0x7f78016ae3c8>"
      ]
     },
     "execution_count": 30,
     "metadata": {},
     "output_type": "execute_result"
    },
    {
     "data": {
      "image/png": "[encoded data removed]",
      "text/plain": [
       "<Figure size 432x288 with 1 Axes>"
      ]
     },
     "metadata": {
      "needs_background": "light"
     },
     "output_type": "display_data"
    }
   ],
   "source": [
    "X_arr = np.linspace(min(X), max(X), num=100)\n",
    "X_poly_arr = poly_features.fit_transform(X_arr)\n",
    "plt.plot(X_arr, lin_reg.predict(X_poly_arr), 'r')\n",
    "plt.scatter(X, y) "
   ]
  },
  {
   "cell_type": "markdown",
   "metadata": {},
   "source": [
    "#### Ploynomial regression using a Stochastic gradient descent\n",
    "We can do the polynomial regression using a Stochastic Gradient Descent since a polynomial regression is essentially a *linear regression* with multiple columns (where the columns were constructed by computing powers of the main column)."
   ]
  },
  {
   "cell_type": "code",
   "execution_count": 31,
   "metadata": {},
   "outputs": [
    {
     "data": {
      "text/plain": [
       "<matplotlib.collections.PathCollection at 0x7f78016629b0>"
      ]
     },
     "execution_count": 31,
     "metadata": {},
     "output_type": "execute_result"
    },
    {
     "data": {
      "image/png": "[encoded data removed]",
      "text/plain": [
       "<Figure size 432x288 with 1 Axes>"
      ]
     },
     "metadata": {
      "needs_background": "light"
     },
     "output_type": "display_data"
    }
   ],
   "source": [
    "sgd_poly_reg = SGDRegressor(tol=0.2, penalty=None, eta0=0.1)\n",
    "sgd_poly_reg.fit(X_poly,y.reshape(-1)) # SGDRegressor requires y to be a flattened array, not a vector\n",
    "plt.plot(X_arr, sgd_poly_reg.predict(X_poly_arr))\n",
    "plt.scatter(X, y)"
   ]
  },
  {
   "cell_type": "markdown",
   "metadata": {},
   "source": [
    "Note: every time we run it, the curve it going to be slightly different since we are using *stochastic* method."
   ]
  },
  {
   "cell_type": "markdown",
   "metadata": {},
   "source": [
    "### How to determine that the model is under or over fitting?\n",
    "* Look at the cross-validation scores. If the model fits a small amount of data *very* well (ie. interpolating), it would not work well with randomly selected data (overfitting).\n",
    "\n",
    "1. **Learning curves:** Plot the graph of error of the training and test data vs the sample size of the set."
   ]
  },
  {
   "cell_type": "code",
   "execution_count": 32,
   "metadata": {},
   "outputs": [],
   "source": [
    "from sklearn.metrics import mean_squared_error\n",
    "from sklearn.model_selection import train_test_split\n",
    "\n",
    "def plot_learning_curves(model, X, y):\n",
    "    X_train, X_validation, y_train, y_validation = train_test_split(X, y, test_size=0.2)\n",
    "    train_errors, validation_errors = [], []\n",
    "    for m in range(1, len(X_train)):\n",
    "        model.fit(X_train[:m], y_train[:m])\n",
    "        training_prediction = model.predict(X_train[:m])\n",
    "        validation_prediction = model.predict(X_validation)\n",
    "        train_errors.append(mean_squared_error(training_prediction, y_train[:m]))\n",
    "        validation_errors.append(mean_squared_error(validation_prediction, y_validation))\n",
    "    plt.plot(np.sqrt(train_errors), \"r-+\", label=\"train\" )\n",
    "    plt.plot(np.sqrt(validation_errors), \"g-\", label=\"validation\" )"
   ]
  },
  {
   "cell_type": "code",
   "execution_count": 33,
   "metadata": {},
   "outputs": [
    {
     "data": {
      "image/png": "[encoded data removed]",
      "text/plain": [
       "<Figure size 432x288 with 1 Axes>"
      ]
     },
     "metadata": {
      "needs_background": "light"
     },
     "output_type": "display_data"
    }
   ],
   "source": [
    "lin_reg = LinearRegression()\n",
    "plot_learning_curves(lin_reg, X, y)"
   ]
  },
  {
   "cell_type": "markdown",
   "metadata": {},
   "source": [
    "Since the error from the training data is less than the error from the validation data (there is a gap for all size of training dataset), we are underfitting.\n",
    "\n",
    "When the training dataset is small, we are overfitting, hence the error on the training dataset is very small. At this stage, the model hasn't seen the validation set, so the error on that is very high. As the dataset size increases, the error catches up."
   ]
  },
  {
   "cell_type": "code",
   "execution_count": 34,
   "metadata": {},
   "outputs": [
    {
     "data": {
      "image/png": "[encoded data removed]",
      "text/plain": [
       "<Figure size 432x288 with 1 Axes>"
      ]
     },
     "metadata": {
      "needs_background": "light"
     },
     "output_type": "display_data"
    }
   ],
   "source": [
    "from sklearn.pipeline import Pipeline\n",
    "polynomial_regression = Pipeline([\n",
    "    (\"poly_features\", PolynomialFeatures(degree=10, include_bias=False)),\n",
    "    (\"sgd_reg\", LinearRegression()),\n",
    "\n",
    "])\n",
    "plot_learning_curves(polynomial_regression, X, y)"
   ]
  },
  {
   "cell_type": "markdown",
   "metadata": {},
   "source": [
    "Plotting the corresponding models"
   ]
  },
  {
   "cell_type": "code",
   "execution_count": 35,
   "metadata": {},
   "outputs": [
    {
     "data": {
      "text/plain": [
       "<matplotlib.collections.PathCollection at 0x7f78014ca668>"
      ]
     },
     "execution_count": 35,
     "metadata": {},
     "output_type": "execute_result"
    },
    {
     "data": {
      "image/png": "[encoded data removed]",
      "text/plain": [
       "<Figure size 432x288 with 1 Axes>"
      ]
     },
     "metadata": {
      "needs_background": "light"
     },
     "output_type": "display_data"
    }
   ],
   "source": [
    "X_arr = np.linspace(min(X), max(X), num=100)\n",
    "plt.plot(X_arr, lin_reg.predict(X_arr),'r')\n",
    "plt.plot(X_arr, polynomial_regression.predict(X_arr),'b' )\n",
    "plt.scatter(X, y)"
   ]
  },
  {
   "cell_type": "markdown",
   "metadata": {},
   "source": [
    "## Ridge Regression or Tikhonov Regularization\n",
    "The cost function is\n",
    "$$ J(\\theta) = \\text{MSE}(\\theta) + \\frac\\alpha2 \\lvert \\lvert \\theta \\rvert \\rvert_{l^2}$$ \n",
    "Or,\n",
    "$$ J(\\theta) = (\\bar{X}\\theta - y)^T ( \\bar{X} \\theta - y) + \\frac\\alpha2 \\theta^T \\theta$$ \n",
    "\n",
    "For $\\alpha=0$, the method reduces to Linear Regression. As $\\alpha$ increases, the fitting curve becomes flatter and eventually approaches a horizontal straight line.\n",
    "\n",
    "**Note:** Requires scaling before we apply Ridge regression."
   ]
  },
  {
   "cell_type": "code",
   "execution_count": 36,
   "metadata": {},
   "outputs": [
    {
     "data": {
      "text/plain": [
       "array([[4.98029502]])"
      ]
     },
     "execution_count": 36,
     "metadata": {},
     "output_type": "execute_result"
    }
   ],
   "source": [
    "from sklearn.linear_model import Ridge\n",
    "ridge_reg = Ridge(alpha=1)\n",
    "ridge_reg.fit(X, y)\n",
    "ridge_reg.predict([[1.5]])"
   ]
  },
  {
   "cell_type": "markdown",
   "metadata": {},
   "source": [
    "## Lasso Regression or Selection Operator Regression\n",
    "The cost function is\n",
    "$$ J(\\theta) = \\text{MSE}(\\theta) + \\alpha \\lvert \\lvert \\theta \\rvert \\rvert_{l^1}$$ \n",
    "Or,\n",
    "$$ J(\\theta) = (\\bar{X}\\theta - y)^T ( \\bar{X} \\theta - y) + \\alpha \\sum_{i=1}^n \\lvert \\theta_i \\rvert$$ \n",
    "\n",
    "The *subgradient* (since the gradient does not exist when $\\theta_i = 0$ for some $i$) of the cost function is\n",
    "$$ g(\\theta, J) = \\nabla_\\theta \\text{MSE}(\\theta) + \\alpha\n",
    "\\begin{bmatrix}\n",
    "sgn(\\theta_1)\\\\\n",
    "\\vdots \\\\\n",
    "sgn(\\theta_n)\n",
    "\\end{bmatrix}\n",
    "$$\n",
    "\n",
    "\n",
    "**Advantage:** The Lasso regression zeros out the smallest (least important) parameters. In other words, it does a **feature selection** and ouputs a **sparse model**.\n",
    "\n",
    "**Disadvatage:** Behaves badly when the number of features is bigger than the number of the datapoints, or when several features are strongly correlated."
   ]
  },
  {
   "cell_type": "code",
   "execution_count": 37,
   "metadata": {},
   "outputs": [
    {
     "data": {
      "text/plain": [
       "array([4.93799764])"
      ]
     },
     "execution_count": 37,
     "metadata": {},
     "output_type": "execute_result"
    }
   ],
   "source": [
    "from sklearn.linear_model import Lasso\n",
    "lasso_reg = Lasso(alpha=0.1)\n",
    "lasso_reg.fit(X,y)\n",
    "lasso_reg.predict([[1.5]])"
   ]
  },
  {
   "cell_type": "markdown",
   "metadata": {},
   "source": [
    "## Elastic Net\n",
    "\n",
    "The regularization involves a convex combination of the $l^1$ and $l^2$ norm of $\\theta$. The cost fuction is\n",
    "$$ J(\\theta) = \\text{MSE}(\\theta) + \\alpha \\left( r \\lvert \\lvert \\theta \\rvert \\rvert_{l^2} + (1-r) \\lvert \\lvert \\theta \\rvert \\rvert_{l^1} \\right)\n",
    "$$\n",
    "for $r \\in [0, 1]$.\n",
    "\n",
    "### Usage of linear regression models\n",
    "Use Elastic Net or Lasso if there are reasons to suspect that only a few features are useful.\n",
    "\n",
    "**Ridge > Elastic Net > Lasso > Linear Regression**"
   ]
  },
  {
   "cell_type": "markdown",
   "metadata": {},
   "source": [
    "## Early Stopping as a regularization method\n",
    "We stop the learning process when the validation error reaches a local minimum. **Beautiful free lunch**\n",
    "\n",
    "However, since the error is not smooth, let the process run for a few more steps to make sure that the error does not go down again and roll back the parameters later."
   ]
  },
  {
   "cell_type": "markdown",
   "metadata": {},
   "source": [
    "#### Note sure what the next code does. How is this `epoch` being inside the loop?"
   ]
  },
  {
   "cell_type": "code",
   "execution_count": 38,
   "metadata": {},
   "outputs": [
    {
     "name": "stderr",
     "output_type": "stream",
     "text": [
      "/usr/local/lib/python3.6/dist-packages/sklearn/linear_model/stochastic_gradient.py:152: DeprecationWarning: n_iter parameter is deprecated in 0.19 and will be removed in 0.21. Use max_iter and tol instead.\n",
      "  DeprecationWarning)\n",
      "/usr/local/lib/python3.6/dist-packages/sklearn/utils/validation.py:761: DataConversionWarning: A column-vector y was passed when a 1d array was expected. Please change the shape of y to (n_samples, ), for example using ravel().\n",
      "  y = column_or_1d(y, warn=True)\n"
     ]
    },
    {
     "ename": "ValueError",
     "evalue": "Found input variables with inconsistent numbers of samples: [80, 100]",
     "output_type": "error",
     "traceback": [
      "\u001b[0;31m---------------------------------------------------------------------------\u001b[0m",
      "\u001b[0;31mValueError\u001b[0m                                Traceback (most recent call last)",
      "\u001b[0;32m<ipython-input-38-8786b3925426>\u001b[0m in \u001b[0;36m<module>\u001b[0;34m\u001b[0m\n\u001b[1;32m     15\u001b[0m \u001b[0;34m\u001b[0m\u001b[0m\n\u001b[1;32m     16\u001b[0m \u001b[0;32mfor\u001b[0m \u001b[0mepoch\u001b[0m \u001b[0;32min\u001b[0m \u001b[0mrange\u001b[0m\u001b[0;34m(\u001b[0m\u001b[0;36m1000\u001b[0m\u001b[0;34m)\u001b[0m\u001b[0;34m:\u001b[0m\u001b[0;34m\u001b[0m\u001b[0;34m\u001b[0m\u001b[0m\n\u001b[0;32m---> 17\u001b[0;31m     \u001b[0msgd_reg\u001b[0m\u001b[0;34m.\u001b[0m\u001b[0mfit\u001b[0m\u001b[0;34m(\u001b[0m\u001b[0mX_train_poly_scaled\u001b[0m\u001b[0;34m,\u001b[0m \u001b[0my\u001b[0m\u001b[0;34m)\u001b[0m \u001b[0;31m#warm starts from last cloned point\u001b[0m\u001b[0;34m\u001b[0m\u001b[0;34m\u001b[0m\u001b[0m\n\u001b[0m\u001b[1;32m     18\u001b[0m     \u001b[0my_val_predict\u001b[0m \u001b[0;34m=\u001b[0m \u001b[0msgd_reg\u001b[0m\u001b[0;34m.\u001b[0m\u001b[0mpredict\u001b[0m\u001b[0;34m(\u001b[0m\u001b[0mstd_sc\u001b[0m\u001b[0;34m.\u001b[0m\u001b[0mfit_transform\u001b[0m\u001b[0;34m(\u001b[0m\u001b[0mpoly_features\u001b[0m\u001b[0;34m.\u001b[0m\u001b[0mfit_transform\u001b[0m\u001b[0;34m(\u001b[0m\u001b[0mX_validation\u001b[0m\u001b[0;34m)\u001b[0m\u001b[0;34m)\u001b[0m\u001b[0;34m)\u001b[0m\u001b[0;34m\u001b[0m\u001b[0;34m\u001b[0m\u001b[0m\n\u001b[1;32m     19\u001b[0m     \u001b[0mval_error\u001b[0m \u001b[0;34m=\u001b[0m \u001b[0mmean_squared_error\u001b[0m\u001b[0;34m(\u001b[0m\u001b[0my_val_predict\u001b[0m\u001b[0;34m,\u001b[0m \u001b[0my_validation\u001b[0m\u001b[0;34m)\u001b[0m\u001b[0;34m\u001b[0m\u001b[0;34m\u001b[0m\u001b[0m\n",
      "\u001b[0;32m/usr/local/lib/python3.6/dist-packages/sklearn/linear_model/stochastic_gradient.py\u001b[0m in \u001b[0;36mfit\u001b[0;34m(self, X, y, coef_init, intercept_init, sample_weight)\u001b[0m\n\u001b[1;32m   1250\u001b[0m                          \u001b[0mcoef_init\u001b[0m\u001b[0;34m=\u001b[0m\u001b[0mcoef_init\u001b[0m\u001b[0;34m,\u001b[0m\u001b[0;34m\u001b[0m\u001b[0;34m\u001b[0m\u001b[0m\n\u001b[1;32m   1251\u001b[0m                          \u001b[0mintercept_init\u001b[0m\u001b[0;34m=\u001b[0m\u001b[0mintercept_init\u001b[0m\u001b[0;34m,\u001b[0m\u001b[0;34m\u001b[0m\u001b[0;34m\u001b[0m\u001b[0m\n\u001b[0;32m-> 1252\u001b[0;31m                          sample_weight=sample_weight)\n\u001b[0m\u001b[1;32m   1253\u001b[0m \u001b[0;34m\u001b[0m\u001b[0m\n\u001b[1;32m   1254\u001b[0m     \u001b[0;32mdef\u001b[0m \u001b[0m_decision_function\u001b[0m\u001b[0;34m(\u001b[0m\u001b[0mself\u001b[0m\u001b[0;34m,\u001b[0m \u001b[0mX\u001b[0m\u001b[0;34m)\u001b[0m\u001b[0;34m:\u001b[0m\u001b[0;34m\u001b[0m\u001b[0;34m\u001b[0m\u001b[0m\n",
      "\u001b[0;32m/usr/local/lib/python3.6/dist-packages/sklearn/linear_model/stochastic_gradient.py\u001b[0m in \u001b[0;36m_fit\u001b[0;34m(self, X, y, alpha, C, loss, learning_rate, coef_init, intercept_init, sample_weight)\u001b[0m\n\u001b[1;32m   1210\u001b[0m         self._partial_fit(X, y, alpha, C, loss, learning_rate,\n\u001b[1;32m   1211\u001b[0m                           \u001b[0mself\u001b[0m\u001b[0;34m.\u001b[0m\u001b[0m_max_iter\u001b[0m\u001b[0;34m,\u001b[0m \u001b[0msample_weight\u001b[0m\u001b[0;34m,\u001b[0m \u001b[0mcoef_init\u001b[0m\u001b[0;34m,\u001b[0m\u001b[0;34m\u001b[0m\u001b[0;34m\u001b[0m\u001b[0m\n\u001b[0;32m-> 1212\u001b[0;31m                           intercept_init)\n\u001b[0m\u001b[1;32m   1213\u001b[0m \u001b[0;34m\u001b[0m\u001b[0m\n\u001b[1;32m   1214\u001b[0m         if (self._tol is not None and self._tol > -np.inf\n",
      "\u001b[0;32m/usr/local/lib/python3.6/dist-packages/sklearn/linear_model/stochastic_gradient.py\u001b[0m in \u001b[0;36m_partial_fit\u001b[0;34m(self, X, y, alpha, C, loss, learning_rate, max_iter, sample_weight, coef_init, intercept_init)\u001b[0m\n\u001b[1;32m   1136\u001b[0m                      max_iter, sample_weight, coef_init, intercept_init):\n\u001b[1;32m   1137\u001b[0m         X, y = check_X_y(X, y, \"csr\", copy=False, order='C', dtype=np.float64,\n\u001b[0;32m-> 1138\u001b[0;31m                          accept_large_sparse=False)\n\u001b[0m\u001b[1;32m   1139\u001b[0m         \u001b[0my\u001b[0m \u001b[0;34m=\u001b[0m \u001b[0my\u001b[0m\u001b[0;34m.\u001b[0m\u001b[0mastype\u001b[0m\u001b[0;34m(\u001b[0m\u001b[0mnp\u001b[0m\u001b[0;34m.\u001b[0m\u001b[0mfloat64\u001b[0m\u001b[0;34m,\u001b[0m \u001b[0mcopy\u001b[0m\u001b[0;34m=\u001b[0m\u001b[0;32mFalse\u001b[0m\u001b[0;34m)\u001b[0m\u001b[0;34m\u001b[0m\u001b[0;34m\u001b[0m\u001b[0m\n\u001b[1;32m   1140\u001b[0m \u001b[0;34m\u001b[0m\u001b[0m\n",
      "\u001b[0;32m/usr/local/lib/python3.6/dist-packages/sklearn/utils/validation.py\u001b[0m in \u001b[0;36mcheck_X_y\u001b[0;34m(X, y, accept_sparse, accept_large_sparse, dtype, order, copy, force_all_finite, ensure_2d, allow_nd, multi_output, ensure_min_samples, ensure_min_features, y_numeric, warn_on_dtype, estimator)\u001b[0m\n\u001b[1;32m    764\u001b[0m         \u001b[0my\u001b[0m \u001b[0;34m=\u001b[0m \u001b[0my\u001b[0m\u001b[0;34m.\u001b[0m\u001b[0mastype\u001b[0m\u001b[0;34m(\u001b[0m\u001b[0mnp\u001b[0m\u001b[0;34m.\u001b[0m\u001b[0mfloat64\u001b[0m\u001b[0;34m)\u001b[0m\u001b[0;34m\u001b[0m\u001b[0;34m\u001b[0m\u001b[0m\n\u001b[1;32m    765\u001b[0m \u001b[0;34m\u001b[0m\u001b[0m\n\u001b[0;32m--> 766\u001b[0;31m     \u001b[0mcheck_consistent_length\u001b[0m\u001b[0;34m(\u001b[0m\u001b[0mX\u001b[0m\u001b[0;34m,\u001b[0m \u001b[0my\u001b[0m\u001b[0;34m)\u001b[0m\u001b[0;34m\u001b[0m\u001b[0;34m\u001b[0m\u001b[0m\n\u001b[0m\u001b[1;32m    767\u001b[0m \u001b[0;34m\u001b[0m\u001b[0m\n\u001b[1;32m    768\u001b[0m     \u001b[0;32mreturn\u001b[0m \u001b[0mX\u001b[0m\u001b[0;34m,\u001b[0m \u001b[0my\u001b[0m\u001b[0;34m\u001b[0m\u001b[0;34m\u001b[0m\u001b[0m\n",
      "\u001b[0;32m/usr/local/lib/python3.6/dist-packages/sklearn/utils/validation.py\u001b[0m in \u001b[0;36mcheck_consistent_length\u001b[0;34m(*arrays)\u001b[0m\n\u001b[1;32m    233\u001b[0m     \u001b[0;32mif\u001b[0m \u001b[0mlen\u001b[0m\u001b[0;34m(\u001b[0m\u001b[0muniques\u001b[0m\u001b[0;34m)\u001b[0m \u001b[0;34m>\u001b[0m \u001b[0;36m1\u001b[0m\u001b[0;34m:\u001b[0m\u001b[0;34m\u001b[0m\u001b[0;34m\u001b[0m\u001b[0m\n\u001b[1;32m    234\u001b[0m         raise ValueError(\"Found input variables with inconsistent numbers of\"\n\u001b[0;32m--> 235\u001b[0;31m                          \" samples: %r\" % [int(l) for l in lengths])\n\u001b[0m\u001b[1;32m    236\u001b[0m \u001b[0;34m\u001b[0m\u001b[0m\n\u001b[1;32m    237\u001b[0m \u001b[0;34m\u001b[0m\u001b[0m\n",
      "\u001b[0;31mValueError\u001b[0m: Found input variables with inconsistent numbers of samples: [80, 100]"
     ]
    }
   ],
   "source": [
    "X_train, X_validation, y_train, y_validation = train_test_split(X, y, test_size=0.2)\n",
    "X_train_poly = poly_features.fit_transform(X_train)\n",
    "\n",
    "from sklearn.preprocessing import StandardScaler\n",
    "std_sc = StandardScaler()\n",
    "X_train_poly_scaled = std_sc.fit_transform(X_train_poly)\n",
    "\n",
    "from sklearn.base import clone\n",
    "sgd_reg = SGDRegressor(n_iter=1, warm_start=True, penalty=None,\n",
    "                       learning_rate=\"constant\", eta0=0.0005,\n",
    "                      )\n",
    "minimum_val_error = float(\"inf\")\n",
    "best_epoch = None\n",
    "best_model = None\n",
    "\n",
    "for epoch in range(1000):\n",
    "    sgd_reg.fit(X_train_poly_scaled, y) #warm starts from last cloned point \n",
    "    y_val_predict = sgd_reg.predict(std_sc.fit_transform(poly_features.fit_transform(X_validation)))\n",
    "    val_error = mean_squared_error(y_val_predict, y_validation)\n",
    "    if val_error < minimum_val_error:\n",
    "        minimum_val_error = val_error\n",
    "        best_epoch = epoch\n",
    "        best_model = clone(sgd_reg)"
   ]
  },
  {
   "cell_type": "markdown",
   "metadata": {},
   "source": [
    "## Logistic Regression for classification\n",
    "\n",
    "A classification problem can be thought as a regression problem where we fit a curve in the data and group the data points on each side of the curve as of a single class."
   ]
  },
  {
   "cell_type": "markdown",
   "metadata": {},
   "source": [
    "A logistic curve."
   ]
  },
  {
   "cell_type": "code",
   "execution_count": null,
   "metadata": {},
   "outputs": [],
   "source": [
    "points = np.linspace(-10, 10)\n",
    "plt.plot(points, np.power(1 + np.exp(-points), -1))"
   ]
  },
  {
   "cell_type": "markdown",
   "metadata": {},
   "source": [
    "Let the boundary of the 2-label classification (or the regression curve to fit the data) be $y_i = \\theta^T X_i$ for each $i=1, \\dots, m$.\n",
    "\n",
    "Define the probability $p_i$ that the point $(X_i, y_i)$ lies on the *positive* side of the regression curve (i.e. when $\\theta^T X_i > 0$) by\n",
    "$$\n",
    "p_i = \\left(1 + e^{-\\theta^T X_i}\\right)^{-1}.\n",
    "$$"
   ]
  },
  {
   "cell_type": "markdown",
   "metadata": {},
   "source": [
    "When $p_i = \\frac12$,  the point $(X_i, y_i)$ lies exactly on the boundary between the two classes (or, interpolated exactly by the model $y_i = \\theta^T X_i$), since the range of the logistic funcion $(1 + e^{-t})^{-1}$ is $[0, 1]$ with the midpoint at $\\frac12$.\n",
    "\n",
    "So, we can state our classification prediction algorithm as\n",
    "$$\n",
    "y_i = \n",
    "\\begin{cases}\n",
    "0 \\text{ if } p_i < 1/2\\\\\n",
    "1 \\text{ if } p_i > 1/2,\n",
    "\\end{cases}\n",
    "$$\n",
    "although we can just work with the actual probability $p_i$.\n",
    "\n",
    "The cost value for each point is defined by\n",
    "\n",
    "$$\n",
    "\\begin{align*}\n",
    "c_i(\\theta) & = \n",
    "\\begin{cases}\n",
    "-\\log(p_i) & \\text{ if } y_i = 1\\\\ \n",
    "-\\log(1 - p_i)  &\\text{ if } y_i = 0 \n",
    "\\end{cases}\\\\\n",
    "%& =\n",
    "%\\begin{cases}\n",
    "%\\log(1 + e^{\\theta^T X_i})  & \\text{ if }  (1 + e^{-\\theta^T X_i})^{-1} > \\frac12\\\\ \n",
    "%\\log(1 + e^{-\\theta^T X_i})  &\\text{ if }  (1 + e^{-\\theta^T X_i})^{-1} < \\frac12.\n",
    "%\\end{cases}\n",
    "\\end{align*}\n",
    "$$\n",
    "\n",
    "This choice of cost value reflects that whenever $p_i \\in [0, 1]$ is small (smaller than $\\frac12$), i.e. when the datapoint lies on the *negative* side of the regression curve, the cost value corresponding to $y_i = 1$ (i.e. the point is on the *positive* side of the regression curve) is bigger and vice versa."
   ]
  },
  {
   "cell_type": "markdown",
   "metadata": {},
   "source": [
    "The cost function (called *log loss*) is defined as the sum of the convex combination of the cost values of each datapoint\n",
    "$$\n",
    "J(\\theta) = -\\frac1m \\sum_{i=1}^m \\text{floor}\\left( y_i \\log(p_i) + (1 - y_i) \\log( 1 - p_i) \\right)\n",
    "$$\n",
    "\n",
    "The cost function is convex in $\\theta$ hence (?) we can differentiate and find the gradient.\n",
    "\n",
    "$$\n",
    "\\frac{\\partial}{\\partial \\theta_j} J(\\theta) = \\frac1m \\sum_{i=1}^m \\left( \\left( 1 + e^{-\\theta^T X_i} \\right)^{-1} - y_i \\right) (X_i)_j\n",
    "$$\n",
    "Using this gradient, we can train the model with gradient descent or batch gradient descent method (with randomly chosed set of indices to compute the gradient) using\n",
    "$$\n",
    "\\theta^{n+1} = \\theta^n - \\eta \\frac{\\partial}{\\partial \\theta_j} J(\\theta^n)\n",
    "$$"
   ]
  },
  {
   "cell_type": "markdown",
   "metadata": {},
   "source": [
    "### In the notation of probability\n",
    "In terms of probability, we have\n",
    "$$\n",
    "\\mathbb{P}(y_i = 1 | X_i) = \\left( 1 + e^{-\\theta^T X_i}\\right)^{-1}\\\\\n",
    "$$\n",
    "and\n",
    "$$\n",
    "\\mathbb{P}(y_i = 0 | X_i) = 1 - \\left( 1 + e^{-\\theta^T X_i}\\right)^{-1} = \\frac{e^{-\\theta^T X_i}}{1 + e^{-\\theta^T X_i}}\n",
    "$$\n",
    "\n",
    "Generalizing, for any $y \\in [0,1]$, we can write,\n",
    "$$\n",
    "\\mathbb{P}(y_i = y | X_i) = \\left( 1 + e^{-\\theta^T X_i}\\right)^{-y}\\left( \\frac{e^{-\\theta^T X_i}}{1 + e^{-\\theta^T X_i}}\\right)^{(1-y)}\n",
    "$$\n",
    "The **likelihood function** (not sure about the definition)\n",
    "$$\n",
    "L = \\prod_{i=1}^{m} \\mathbb{P}(y_i = y_i| X_i)\n",
    "$$\n",
    "The **log-likelihood function** is \n",
    "$$\\log L.$$"
   ]
  },
  {
   "cell_type": "markdown",
   "metadata": {},
   "source": [
    "Using the Iris dataset."
   ]
  },
  {
   "cell_type": "code",
   "execution_count": 2,
   "metadata": {},
   "outputs": [
    {
     "data": {
      "text/plain": [
       "['data', 'target', 'target_names', 'DESCR', 'feature_names', 'filename']"
      ]
     },
     "execution_count": 2,
     "metadata": {},
     "output_type": "execute_result"
    }
   ],
   "source": [
    "from sklearn import datasets\n",
    "iris = datasets.load_iris()\n",
    "list(iris.keys())"
   ]
  },
  {
   "cell_type": "code",
   "execution_count": 40,
   "metadata": {},
   "outputs": [
    {
     "data": {
      "text/plain": [
       "['sepal length (cm)',\n",
       " 'sepal width (cm)',\n",
       " 'petal length (cm)',\n",
       " 'petal width (cm)']"
      ]
     },
     "execution_count": 40,
     "metadata": {},
     "output_type": "execute_result"
    }
   ],
   "source": [
    "iris['feature_names']"
   ]
  },
  {
   "cell_type": "code",
   "execution_count": 41,
   "metadata": {},
   "outputs": [],
   "source": [
    "# select petal width (cm)\n",
    "X = iris['data'][:, 3:]\n",
    "y = (iris['target'] == 2).astype(np.int)"
   ]
  },
  {
   "cell_type": "code",
   "execution_count": 45,
   "metadata": {},
   "outputs": [
    {
     "data": {
      "text/plain": [
       "array([0, 0, 0, 0, 0, 0, 0, 0, 0, 0, 0, 0, 0, 0, 0, 0, 0, 0, 0, 0, 0, 0,\n",
       "       0, 0, 0, 0, 0, 0, 0, 0, 0, 0, 0, 0, 0, 0, 0, 0, 0, 0, 0, 0, 0, 0,\n",
       "       0, 0, 0, 0, 0, 0, 0, 0, 0, 0, 0, 0, 0, 0, 0, 0, 0, 0, 0, 0, 0, 0,\n",
       "       0, 0, 0, 0, 0, 0, 0, 0, 0, 0, 0, 0, 0, 0, 0, 0, 0, 0, 0, 0, 0, 0,\n",
       "       0, 0, 0, 0, 0, 0, 0, 0, 0, 0, 0, 0, 1, 1, 1, 1, 1, 1, 1, 1, 1, 1,\n",
       "       1, 1, 1, 1, 1, 1, 1, 1, 1, 1, 1, 1, 1, 1, 1, 1, 1, 1, 1, 1, 1, 1,\n",
       "       1, 1, 1, 1, 1, 1, 1, 1, 1, 1, 1, 1, 1, 1, 1, 1, 1, 1])"
      ]
     },
     "execution_count": 45,
     "metadata": {},
     "output_type": "execute_result"
    }
   ],
   "source": [
    "y"
   ]
  },
  {
   "cell_type": "markdown",
   "metadata": {},
   "source": [
    "Train a logistic regression model to train type 2 flower by the petal width."
   ]
  },
  {
   "cell_type": "code",
   "execution_count": 3,
   "metadata": {},
   "outputs": [
    {
     "ename": "NameError",
     "evalue": "name 'X' is not defined",
     "output_type": "error",
     "traceback": [
      "\u001b[0;31m---------------------------------------------------------------------------\u001b[0m",
      "\u001b[0;31mNameError\u001b[0m                                 Traceback (most recent call last)",
      "\u001b[0;32m<ipython-input-3-31bbf339bcb3>\u001b[0m in \u001b[0;36m<module>\u001b[0;34m\u001b[0m\n\u001b[1;32m      1\u001b[0m \u001b[0;32mfrom\u001b[0m \u001b[0msklearn\u001b[0m\u001b[0;34m.\u001b[0m\u001b[0mlinear_model\u001b[0m \u001b[0;32mimport\u001b[0m \u001b[0mLogisticRegression\u001b[0m\u001b[0;34m\u001b[0m\u001b[0;34m\u001b[0m\u001b[0m\n\u001b[1;32m      2\u001b[0m \u001b[0mlog_reg\u001b[0m \u001b[0;34m=\u001b[0m \u001b[0mLogisticRegression\u001b[0m\u001b[0;34m(\u001b[0m\u001b[0;34m)\u001b[0m\u001b[0;34m\u001b[0m\u001b[0;34m\u001b[0m\u001b[0m\n\u001b[0;32m----> 3\u001b[0;31m \u001b[0mlog_reg\u001b[0m\u001b[0;34m.\u001b[0m\u001b[0mfit\u001b[0m\u001b[0;34m(\u001b[0m\u001b[0mX\u001b[0m\u001b[0;34m,\u001b[0m\u001b[0my\u001b[0m\u001b[0;34m)\u001b[0m\u001b[0;34m\u001b[0m\u001b[0;34m\u001b[0m\u001b[0m\n\u001b[0m",
      "\u001b[0;31mNameError\u001b[0m: name 'X' is not defined"
     ]
    }
   ],
   "source": [
    "from sklearn.linear_model import LogisticRegression\n",
    "log_reg = LogisticRegression()\n",
    "log_reg.fit(X,y)"
   ]
  },
  {
   "cell_type": "code",
   "execution_count": 57,
   "metadata": {},
   "outputs": [
    {
     "data": {
      "text/plain": [
       "array([[0.98554411, 0.01445589],\n",
       "       [0.98543168, 0.01456832],\n",
       "       [0.98531838, 0.01468162],\n",
       "       ...,\n",
       "       [0.02618938, 0.97381062],\n",
       "       [0.02598963, 0.97401037],\n",
       "       [0.02579136, 0.97420864]])"
      ]
     },
     "execution_count": 57,
     "metadata": {},
     "output_type": "execute_result"
    }
   ],
   "source": [
    "# creating a uniformly spaced vector of petal widths\n",
    "X_new = np.linspace(0, 3, 1000).reshape(-1, 1)\n",
    "# predict_proba instead of predict to output the proboblity instead of the class\n",
    "y_proba = log_reg.predict_proba(X_new)\n",
    "y_proba"
   ]
  },
  {
   "cell_type": "markdown",
   "metadata": {},
   "source": [
    "i-th row prints the probablities that the flower with petal width `X_new[i]` is a type-2 flower and not a type-2 flower."
   ]
  },
  {
   "cell_type": "code",
   "execution_count": 59,
   "metadata": {},
   "outputs": [
    {
     "data": {
      "text/plain": [
       "[<matplotlib.lines.Line2D at 0x7f7801287cf8>]"
      ]
     },
     "execution_count": 59,
     "metadata": {},
     "output_type": "execute_result"
    },
    {
     "data": {
      "image/png": "[encoded data removed]",
      "text/plain": [
       "<Figure size 432x288 with 1 Axes>"
      ]
     },
     "metadata": {
      "needs_background": "light"
     },
     "output_type": "display_data"
    }
   ],
   "source": [
    "plt.plot(X_new, y_proba[:, 1], 'g', label='yes' )\n",
    "plt.plot(X_new, y_proba[:, 0], 'b', label = 'no')"
   ]
  },
  {
   "cell_type": "markdown",
   "metadata": {},
   "source": [
    "Where the two graphs intersects (i.e. around 1.6), the decision boundary is set, i.e., higher than 1.6 petal width implies the model predicts  that the flower is indeed of type-2."
   ]
  },
  {
   "cell_type": "markdown",
   "metadata": {},
   "source": [
    "#### Now we train with more features"
   ]
  },
  {
   "cell_type": "code",
   "execution_count": 70,
   "metadata": {},
   "outputs": [
    {
     "name": "stdout",
     "output_type": "stream",
     "text": [
      "[[0.913103 0.086897]]\n",
      "1\n"
     ]
    },
    {
     "name": "stderr",
     "output_type": "stream",
     "text": [
      "/usr/local/lib/python3.6/dist-packages/sklearn/linear_model/logistic.py:433: FutureWarning: Default solver will be changed to 'lbfgs' in 0.22. Specify a solver to silence this warning.\n",
      "  FutureWarning)\n"
     ]
    }
   ],
   "source": [
    "log_reg2 = LogisticRegression()\n",
    "log_reg2.fit(iris['data'][:, 0:3], y)\n",
    "# predicted probability\n",
    "print(log_reg2.predict_proba(iris['data'][50, 0:3].reshape(1,-1)))\n",
    "print(iris['target'][50])  # actual label"
   ]
  },
  {
   "cell_type": "markdown",
   "metadata": {},
   "source": [
    "Can do a regularized cost function. By defalult, the model is regularized by (`penalty=`) the `l2` norm of $\\theta$ with the regularization constant `C` = $\\frac1\\alpha$. Higher `C` implies less regularized model."
   ]
  },
  {
   "cell_type": "markdown",
   "metadata": {},
   "source": [
    "## Softmax Regression\n",
    "for classifying multiple labels"
   ]
  },
  {
   "cell_type": "markdown",
   "metadata": {},
   "source": [
    "To classify multiple ($K$) classes, a probability is computed from multiple linear regression models and the class with the maximum probability is returned.\n",
    "$$ S_k(X_i) = \\theta_k^T X_i$$\n",
    "\n",
    "Probability that the given data sample $X_i$ belongs to the $k$th class is defined by \n",
    "$$ p_i^k = \\frac{e^{s_k(X_i)}}{\\sum_{j=1}^K e^{s_j(X_i)}}$$\n",
    "\n",
    "For predicting classes, we computer the class of the input by the class that produces the highest probability\n",
    "$$ \\hat{y_i} = \\text{argmax} \\{ p_k^i \\}$$\n",
    "\n",
    "\n",
    "The cost function called **cross-entropy** is given by\n",
    "$$\n",
    "J(\\Theta) = - \\frac1m \\sum_{i=1}^{m} \\sum_{k=1}^{K} y_i^k \\log( p_i^k )\n",
    "$$\n",
    "where \n",
    "$$\\Theta = (\\theta_1, \\cdots, \\theta_K)$$\n",
    "and\n",
    "$$ y_i^k = \n",
    "\\begin{cases}\n",
    "1 \\text{ if } y_i \\in \\text{ Class} (k)\\\\\n",
    "0 \\text{ otherwise}\n",
    "\\end{cases}\n",
    "$$"
   ]
  },
  {
   "cell_type": "markdown",
   "metadata": {},
   "source": [
    "The gradient of the cost function with respect to the parameter vector associated with the $k$-th class is given by\n",
    "$$\n",
    "\\nabla_{\\theta_k} J(\\Theta) = \\frac{1}{m} \\sum_{i=1}^m \\left( p_i^k - y_i^k\\right) X_i\n",
    "$$"
   ]
  },
  {
   "cell_type": "markdown",
   "metadata": {},
   "source": [
    "#### Implementation\n",
    "The softmax regression is `LogisgticRegression()` with parameter `multi_class=\"multinomial\"` and `solver=\"lbftgs\"`.\n",
    "\n",
    "We use *petal_length* and *petal_width*  (column 2 and 3) to train the softmax classifier to classify 3 types of flowers."
   ]
  },
  {
   "cell_type": "code",
   "execution_count": 5,
   "metadata": {},
   "outputs": [
    {
     "data": {
      "text/plain": [
       "LogisticRegression(C=10, class_weight=None, dual=False, fit_intercept=True,\n",
       "          intercept_scaling=1, max_iter=100, multi_class='multinomial',\n",
       "          n_jobs=None, penalty='l2', random_state=None, solver='lbfgs',\n",
       "          tol=0.0001, verbose=0, warm_start=False)"
      ]
     },
     "execution_count": 5,
     "metadata": {},
     "output_type": "execute_result"
    }
   ],
   "source": [
    "X = iris['data'][:, (2,3)]\n",
    "y= iris['target']\n",
    "\n",
    "softmax_reg = LogisticRegression(multi_class='multinomial', solver='lbfgs', C=10)\n",
    "softmax_reg.fit(X, y)"
   ]
  },
  {
   "cell_type": "markdown",
   "metadata": {},
   "source": [
    "If the *petal_length* and *petal_width* are 5 and 2 respectively, what kind of flower is it?"
   ]
  },
  {
   "cell_type": "code",
   "execution_count": 7,
   "metadata": {},
   "outputs": [
    {
     "data": {
      "text/plain": [
       "array([2])"
      ]
     },
     "execution_count": 7,
     "metadata": {},
     "output_type": "execute_result"
    }
   ],
   "source": [
    "softmax_reg.predict([[5,2]])"
   ]
  },
  {
   "cell_type": "markdown",
   "metadata": {},
   "source": [
    "What is the probability that it is of flower type 0, 1 and 2?"
   ]
  },
  {
   "cell_type": "code",
   "execution_count": 8,
   "metadata": {},
   "outputs": [
    {
     "data": {
      "text/plain": [
       "array([[6.38014896e-07, 5.74929995e-02, 9.42506362e-01]])"
      ]
     },
     "execution_count": 8,
     "metadata": {},
     "output_type": "execute_result"
    }
   ],
   "source": [
    "softmax_reg.predict_proba([[5,2]])"
   ]
  },
  {
   "cell_type": "markdown",
   "metadata": {},
   "source": [
    "The decision boundaries are linear since our hypothesis is that the boundary is of the form $\\theta^T X = 0$, just like logistic regression. "
   ]
  }
 ],
 "metadata": {
  "kernelspec": {
   "display_name": "Python 3",
   "language": "python",
   "name": "python3"
  },
  "language_info": {
   "codemirror_mode": {
    "name": "ipython",
    "version": 3
   },
   "file_extension": ".py",
   "mimetype": "text/x-python",
   "name": "python",
   "nbconvert_exporter": "python",
   "pygments_lexer": "ipython3",
   "version": "3.6.7"
  }
 },
 "nbformat": 4,
 "nbformat_minor": 2
}
