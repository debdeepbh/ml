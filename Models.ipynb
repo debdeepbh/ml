{
 "cells": [
  {
   "cell_type": "markdown",
   "metadata": {},
   "source": [
    "## Linear regression\n",
    "\n",
    "Generate a random data with underlying trend: $y = 4 + 3x$.\n",
    "By convention, the y-intercept is taken to be the first parameter."
   ]
  },
  {
   "cell_type": "code",
   "execution_count": 2,
   "metadata": {},
   "outputs": [],
   "source": [
    "import numpy as np\n",
    "X= 2* np.random.rand(100, 1)\n",
    "y = 4 + 3*X + np.random.randn(100, 1)"
   ]
  },
  {
   "cell_type": "code",
   "execution_count": 5,
   "metadata": {},
   "outputs": [
    {
     "data": {
      "text/plain": [
       "<matplotlib.collections.PathCollection at 0x7f04163df710>"
      ]
     },
     "execution_count": 5,
     "metadata": {},
     "output_type": "execute_result"
    },
    {
     "data": {
      "image/png": "[encoded data removed]",
      "text/plain": [
       "<Figure size 432x288 with 1 Axes>"
      ]
     },
     "metadata": {
      "needs_background": "light"
     },
     "output_type": "display_data"
    }
   ],
   "source": [
    "import matplotlib.pyplot as plt\n",
    "plt.scatter(X,y)"
   ]
  },
  {
   "cell_type": "markdown",
   "metadata": {},
   "source": [
    "Our model is:  $y = c + mx = \\theta^T X$ where $\\theta = (c, m)$ and $X =  (1, x)$.\n",
    "\n",
    "The given data is\n",
    "$$ y_i = \\theta^T X_i$$\n",
    "for $i = 1, ..., M$.\n",
    "\n",
    "We find the the optimum parameter $\\hat{\\theta}$ for which \n",
    "$$ MSE(\\theta) = \\frac1m \\sum_{i=1}^{m} \\left( \\theta^T . X_i - y_i \\right)^2$$\n",
    "is minimized.\n",
    "\n",
    "Observe that\n",
    "$$\n",
    "\\begin{bmatrix}\n",
    "\\theta^T X_1 \\\\\n",
    "\\vdots \\\\\n",
    "\\theta^T X_M \\\\\n",
    " \\end{bmatrix}\n",
    " -\n",
    "\\begin{bmatrix}\n",
    "y_1\\\\\n",
    "\\vdots \\\\\n",
    "y_M\n",
    " \\end{bmatrix}\n",
    "  = \\bar{X}\\theta - y.\n",
    " $$\n",
    " where\n",
    " $$ \\bar{X} = \n",
    " \\begin{bmatrix}\n",
    " X_1\\\\\n",
    " \\vdots\\\\\n",
    " X_M\n",
    " \\end{bmatrix}\n",
    "= \n",
    " \\begin{bmatrix}\n",
    " 1 &x_1\\\\\n",
    " \\vdots & \\vdots\\\\\n",
    "1 & x_m\n",
    " \\end{bmatrix}.\n",
    " $$\n",
    "\n",
    "So,\n",
    "$$ M. \\text{MSE}(\\theta) = (\\bar{X}\\theta - y)^T(\\bar{X}\\theta - y) = (\\bar{X}\\theta)^T (\\bar{X} \\theta) - 2Y^T \\bar{X}^T + Y^T Y $$\n",
    "\n",
    "Using the fact that \n",
    "$$ \\frac{d}{dX} X^TX = 2X$$\n",
    "and \n",
    "$$ \\frac{d}{dX} X^TB = B$$\n",
    "we set  the derivative of MSE to zero to get\n",
    "$$ 2 \\bar{X}^T X \\theta = 2 \\bar{X}^T Y$$\n",
    "which yields the normal equation\n",
    "$$\\hat{\\theta} = \\left(\\bar{X}^T \\bar{X} \\right)^{-1} \\bar{X}^T y$$"
   ]
  },
  {
   "cell_type": "code",
   "execution_count": 11,
   "metadata": {},
   "outputs": [],
   "source": [
    "# Adding bias column of ones, the last column of \\bar{X}\n",
    "X_b = np.c_[np.ones((100,1)), X] # Note the double (( )) !!\n",
    "# using numpy function linalg.inv\n",
    "theta_best = np.linalg.inv(X_b.T.dot(X_b)).dot(X_b.T).dot(y)"
   ]
  },
  {
   "cell_type": "code",
   "execution_count": 12,
   "metadata": {},
   "outputs": [
    {
     "data": {
      "text/plain": [
       "array([[4.21473736],\n",
       "       [2.92184349]])"
      ]
     },
     "execution_count": 12,
     "metadata": {},
     "output_type": "execute_result"
    }
   ],
   "source": [
    "theta_best"
   ]
  },
  {
   "cell_type": "markdown",
   "metadata": {},
   "source": [
    "Our expection was 4 and 3."
   ]
  },
  {
   "cell_type": "markdown",
   "metadata": {},
   "source": [
    "Now, we compute the prediction of the model, which is a line."
   ]
  },
  {
   "cell_type": "code",
   "execution_count": 16,
   "metadata": {},
   "outputs": [],
   "source": [
    "y_predict = np.c_[np.ones((100,1)), X].dot(theta_best)"
   ]
  },
  {
   "cell_type": "code",
   "execution_count": 19,
   "metadata": {},
   "outputs": [
    {
     "data": {
      "text/plain": [
       "<matplotlib.collections.PathCollection at 0x7f0416281048>"
      ]
     },
     "execution_count": 19,
     "metadata": {},
     "output_type": "execute_result"
    },
    {
     "data": {
      "image/png": "[encoded data removed]",
      "text/plain": [
       "<Figure size 432x288 with 1 Axes>"
      ]
     },
     "metadata": {
      "needs_background": "light"
     },
     "output_type": "display_data"
    }
   ],
   "source": [
    "plt.scatter(X,y)\n",
    "plt.plot(X, y_predict,'-r')"
   ]
  },
  {
   "cell_type": "markdown",
   "metadata": {},
   "source": [
    "In `scikit-learn`, we can do the same using `LinearRegression`. We feed the x-values without the bias column and `lin_reg.intercept_` outputs the intercept.\n",
    "While predicting, we need to take the dot product with x-value with a bias column (values of 1)."
   ]
  },
  {
   "cell_type": "code",
   "execution_count": 21,
   "metadata": {},
   "outputs": [
    {
     "data": {
      "text/plain": [
       "LinearRegression(copy_X=True, fit_intercept=True, n_jobs=None,\n",
       "         normalize=False)"
      ]
     },
     "execution_count": 21,
     "metadata": {},
     "output_type": "execute_result"
    }
   ],
   "source": [
    "from sklearn.linear_model import LinearRegression\n",
    "lin_reg = LinearRegression()\n",
    "lin_reg.fit(X,y)"
   ]
  },
  {
   "cell_type": "markdown",
   "metadata": {},
   "source": [
    "The fitted parameters can be viewed using the variable with underscore in the end."
   ]
  },
  {
   "cell_type": "code",
   "execution_count": 22,
   "metadata": {},
   "outputs": [
    {
     "data": {
      "text/plain": [
       "(array([4.21473736]), array([[2.92184349]]))"
      ]
     },
     "execution_count": 22,
     "metadata": {},
     "output_type": "execute_result"
    }
   ],
   "source": [
    "lin_reg.intercept_, lin_reg.coef_"
   ]
  },
  {
   "cell_type": "markdown",
   "metadata": {},
   "source": [
    "### Gradient descent\n",
    "The **learning rate**  $\\eta$ is the step size by which the gradient descent method jumps to the next iteration. \n",
    "\n",
    "The gradient descent algorithm is\n",
    "$$ \\theta^{n+1} = \\theta^n - \\eta \\nabla_{\\theta} \\text{MSE}(\\theta^n)$$\n",
    "where\n",
    "$$ \\nabla_\\theta \\text{MSE}(\\theta) = \\frac2M  \\bar{X}^T(\\bar{X}\\theta -Y)$$\n",
    "\n",
    "The inital guess is chosen randomly. However, depending on the guess, might take a long time to reach the minimizer.\n",
    "\n",
    "The **tolerance** is the lower bound of the gradient of MSE.\n",
    "\n",
    "Here, `X_b`=$\\bar{X}$."
   ]
  },
  {
   "cell_type": "code",
   "execution_count": 25,
   "metadata": {},
   "outputs": [
    {
     "data": {
      "text/plain": [
       "array([[4.21473736],\n",
       "       [2.92184349]])"
      ]
     },
     "execution_count": 25,
     "metadata": {},
     "output_type": "execute_result"
    }
   ],
   "source": [
    "eta = 0.1\n",
    "n_iter = 1000\n",
    "m = 100\n",
    "theta = np.random.randn(2,1)\n",
    "\n",
    "for iteration in range(n_iter):\n",
    "    gradient = 2/m * X_b.T.dot(X_b.dot(theta) - y)\n",
    "    theta = theta  - eta*gradient\n",
    "\n",
    "theta"
   ]
  },
  {
   "cell_type": "markdown",
   "metadata": {},
   "source": [
    "We can do a grid search to find the best learning rate that works. (Not sure how that will give us a different value of the minimizer, but I'm guessing it will be better for MSE's with multiple local minimizers.) "
   ]
  },
  {
   "cell_type": "markdown",
   "metadata": {},
   "source": [
    "For a convex cost function, (smooth enough), for a fixed learning rate, the convergenge rate is $O(\\frac{1}{\\#\\ iterations})$.\n",
    "\n",
    "### Stochastic gradient descent\n",
    "\n",
    "Here, the elements of the gradient (a vectot) is computed using \n",
    "$$ \\frac{\\partial}{\\partial\\theta_j} \\text{MSE}(\\theta) = \\frac2M \\sum_{i=1}^m (\\theta^T X_i - y_i) X_i(j)\n",
    "$$\n",
    "for each $j$. But for each $j$, a different sample is chosen. (?)\n",
    "Choose the gradient of MSE from randomly chosen samples. However, we need to reduce the learning rate gradually to make sure randomly chosen gradients do not make the guess run out of the theorerical minimizer too much.\n",
    "\n",
    "This method does not converge to the minimizer as step size goes to infinity, but it *does* converge in an average.\n",
    "On the other hand, exploiting the randomness, it is very fast."
   ]
  },
  {
   "cell_type": "code",
   "execution_count": 29,
   "metadata": {},
   "outputs": [
    {
     "data": {
      "text/plain": [
       "SGDRegressor(alpha=0.0001, average=False, early_stopping=False, epsilon=0.1,\n",
       "       eta0=0.1, fit_intercept=True, l1_ratio=0.15,\n",
       "       learning_rate='invscaling', loss='squared_loss', max_iter=None,\n",
       "       n_iter=None, n_iter_no_change=5, penalty=None, power_t=0.25,\n",
       "       random_state=None, shuffle=True, tol=0.2, validation_fraction=0.1,\n",
       "       verbose=0, warm_start=False)"
      ]
     },
     "execution_count": 29,
     "metadata": {},
     "output_type": "execute_result"
    }
   ],
   "source": [
    "from sklearn.linear_model import SGDRegressor\n",
    "sgd_reg = SGDRegressor(tol=0.2, penalty=None, eta0=0.1)\n",
    "sgd_reg.fit(X, y.ravel())"
   ]
  },
  {
   "cell_type": "code",
   "execution_count": 30,
   "metadata": {},
   "outputs": [
    {
     "data": {
      "text/plain": [
       "(array([4.1739257]), array([2.98175911]))"
      ]
     },
     "execution_count": 30,
     "metadata": {},
     "output_type": "execute_result"
    }
   ],
   "source": [
    "sgd_reg.intercept_, sgd_reg.coef_"
   ]
  },
  {
   "cell_type": "markdown",
   "metadata": {},
   "source": [
    "### Mini Batch gradient descent\n",
    "chooses a subset of the whole dataset to compute the gradient. This dataset is chosen at random so it has the best of both Stochastic and Batch gradient descent (where the gradient is computed from the whole dataset), fast and converges to the minimizer."
   ]
  },
  {
   "cell_type": "markdown",
   "metadata": {},
   "source": [
    "## Polynomial regression\n",
    "Let the model be\n",
    "$$ y = 0.5x^2 + x+ 2$$"
   ]
  },
  {
   "cell_type": "code",
   "execution_count": 41,
   "metadata": {},
   "outputs": [
    {
     "data": {
      "text/plain": [
       "<matplotlib.collections.PathCollection at 0x7f040002aeb8>"
      ]
     },
     "execution_count": 41,
     "metadata": {},
     "output_type": "execute_result"
    },
    {
     "data": {
      "image/png": "[encoded data removed]",
      "text/plain": [
       "<Figure size 432x288 with 1 Axes>"
      ]
     },
     "metadata": {
      "needs_background": "light"
     },
     "output_type": "display_data"
    }
   ],
   "source": [
    "m = 100\n",
    "X = 6 * np.random.rand(m, 1) - 3\n",
    "y = 0.5 * X**2 + X + 2 + np.random.randn(m,1)\n",
    "plt.scatter(X,y)"
   ]
  },
  {
   "cell_type": "markdown",
   "metadata": {},
   "source": [
    "Here, we create columns including all higher powers of $x$ upto the `degree` provided, with or without the bias term (i.e. the constant coefficent).\n",
    "\n",
    "For example, after fitting the `PolynomialFeatures()`, the first column (with `include_bias=False`) is $x$, second column is $x^2$ etc."
   ]
  },
  {
   "cell_type": "code",
   "execution_count": 53,
   "metadata": {},
   "outputs": [],
   "source": [
    "from sklearn.preprocessing import PolynomialFeatures\n",
    "poly_features = PolynomialFeatures(degree=2, include_bias = False)\n",
    "X_poly = poly_features.fit_transform(X)"
   ]
  },
  {
   "cell_type": "code",
   "execution_count": 47,
   "metadata": {},
   "outputs": [
    {
     "data": {
      "text/plain": [
       "array([-1.90440638,  3.62676366])"
      ]
     },
     "execution_count": 47,
     "metadata": {},
     "output_type": "execute_result"
    }
   ],
   "source": [
    "X_poly[0]  # contains x and x^2"
   ]
  },
  {
   "cell_type": "code",
   "execution_count": 54,
   "metadata": {},
   "outputs": [
    {
     "data": {
      "text/plain": [
       "(array([1.90809282]), array([[0.92145859, 0.52101024]]))"
      ]
     },
     "execution_count": 54,
     "metadata": {},
     "output_type": "execute_result"
    }
   ],
   "source": [
    "lin_reg = LinearRegression()\n",
    "lin_reg.fit(X_poly, y)\n",
    "lin_reg.intercept_, lin_reg.coef_"
   ]
  },
  {
   "cell_type": "markdown",
   "metadata": {},
   "source": [
    "This implies that the model is $y = 1.9 + 0.92 x + 0.52 x^2$."
   ]
  },
  {
   "cell_type": "markdown",
   "metadata": {},
   "source": [
    "If $x=(a,b)$ is two-dimensionals, `PolynomialFeatures` with `degree=2` will produce $a, b, a2, b^2, ab$ columns. \n",
    "For degree $d$ with $n$ features, total polynomial features will be\n",
    "$$ \\frac{(n+d)!}{d! n!}$$ features."
   ]
  },
  {
   "cell_type": "markdown",
   "metadata": {},
   "source": [
    "### How to determine that the model is under or over fitting?\n",
    "Look at the cross-validation scores. If the model fits a small amount of data *very* well (ie. interpolating), it would not work well with randomly selected data (overfitting).\n"
   ]
  },
  {
   "cell_type": "code",
   "execution_count": null,
   "metadata": {},
   "outputs": [],
   "source": []
  }
 ],
 "metadata": {
  "kernelspec": {
   "display_name": "Python 3",
   "language": "python",
   "name": "python3"
  },
  "language_info": {
   "codemirror_mode": {
    "name": "ipython",
    "version": 3
   },
   "file_extension": ".py",
   "mimetype": "text/x-python",
   "name": "python",
   "nbconvert_exporter": "python",
   "pygments_lexer": "ipython3",
   "version": "3.6.7"
  }
 },
 "nbformat": 4,
 "nbformat_minor": 2
}
